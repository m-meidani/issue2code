{
 "cells": [
  {
   "cell_type": "code",
   "execution_count": 1,
   "metadata": {},
   "outputs": [],
   "source": [
    "import re\n",
    "import string\n",
    "import torch\n",
    "import torch.nn as nn\n",
    "import torch.nn.functional as F\n",
    "import torch.optim as optim\n",
    "from torch.utils.data import Dataset, DataLoader\n",
    "from torch import tensor\n",
    "from bpemb import BPEmb\n",
    "import pandas as pd\n",
    "import matplotlib.pyplot as plt\n",
    "from tqdm.auto import tqdm\n",
    "from collections import Counter\n",
    "from torch.nn.utils.rnn import pad_sequence, pack_padded_sequence\n",
    "\n",
    "#import dask.dataframe as dd\n",
    "#from dask.multiprocessing import get"
   ]
  },
  {
   "cell_type": "code",
   "execution_count": 2,
   "metadata": {},
   "outputs": [],
   "source": [
    "bpemb_en = BPEmb(lang=\"en\", dim=300)"
   ]
  },
  {
   "cell_type": "code",
   "execution_count": 3,
   "metadata": {},
   "outputs": [],
   "source": [
    "issues_df = pd.read_pickle('issues_df.pkl', 'gzip')\n",
    "dataset_df = pd.read_pickle('dataset_df.pkl', 'gzip')"
   ]
  },
  {
   "cell_type": "code",
   "execution_count": 4,
   "metadata": {},
   "outputs": [],
   "source": [
    "dataset_df = dataset_df[dataset_df['tokenized'].map(lambda d: len(d)) > 0]"
   ]
  },
  {
   "cell_type": "code",
   "execution_count": null,
   "metadata": {},
   "outputs": [],
   "source": [
    "dataset_df = dataset_df.drop(columns=['filename', 'file_content'])\n",
    "issues_df = issues_df.drop(columns=['text'])"
   ]
  },
  {
   "cell_type": "code",
   "execution_count": null,
   "metadata": {},
   "outputs": [],
   "source": [
    "issues_df = pd.read_csv('./filtered_data/issues_data_etlegacy.csv')\n",
    "dataset_df = pd.read_csv('./filtered_data/file_data_etlegacy.csv')"
   ]
  },
  {
   "cell_type": "code",
   "execution_count": null,
   "metadata": {},
   "outputs": [],
   "source": [
    "dataset_df = dataset_df.sample(frac=1).reset_index(drop=True)\n",
    "issues_df = issues_df.set_index('id')"
   ]
  },
  {
   "cell_type": "code",
   "execution_count": null,
   "metadata": {},
   "outputs": [],
   "source": [
    "dataset_df.head()"
   ]
  },
  {
   "cell_type": "code",
   "execution_count": null,
   "metadata": {},
   "outputs": [],
   "source": [
    "issues_df.head()"
   ]
  },
  {
   "cell_type": "code",
   "execution_count": null,
   "metadata": {},
   "outputs": [],
   "source": [
    "dataset_df['file_content'] = dataset_df['file_content'].fillna('')\n",
    "issues_df['title'] = issues_df['title'].fillna('')\n",
    "issues_df['body'] = issues_df['body'].fillna('')"
   ]
  },
  {
   "cell_type": "code",
   "execution_count": null,
   "metadata": {},
   "outputs": [],
   "source": [
    "issues_df['text'] = issues_df['title'] + ' ' + issues_df['body']\n",
    "issues_df = issues_df[['text']]"
   ]
  },
  {
   "cell_type": "code",
   "execution_count": null,
   "metadata": {},
   "outputs": [],
   "source": [
    "def tokenize (text):\n",
    "    text = re.sub(r\"[^\\x00-\\x7F]+\", \" \", text)\n",
    "    regex = re.compile('[' + re.escape(string.punctuation) + '0-9\\\\r\\\\t\\\\n]') # remove punctuation and numbers\n",
    "    nopunct = regex.sub(\" \", text.lower())\n",
    "    return bpemb_en.encode_ids(text)"
   ]
  },
  {
   "cell_type": "code",
   "execution_count": null,
   "metadata": {},
   "outputs": [],
   "source": [
    "issues_df['tokenized'] = issues_df.apply(lambda row: tokenize(row['text']), axis=1)\n",
    "ddata = dd.from_pandas(dataset_df, npartitions=30)\n",
    "dataset_df['tokenized'] = ddata.map_partitions(lambda df: df.apply(lambda row: tokenize(row['file_content']), axis=1)).compute(scheduler='processes')  "
   ]
  },
  {
   "cell_type": "code",
   "execution_count": null,
   "metadata": {},
   "outputs": [],
   "source": [
    "vocab = set()\n",
    "issues_df.apply(lambda x: vocab.update(str(x['title']).split()), axis=1)\n",
    "issues_df.apply(lambda x: vocab.update(str(x['body']).split()), axis=1)\n",
    "dataset_df.apply(lambda x: vocab.update(str(x['file_content']).split()), axis=1)\n",
    "word_to_ix = {word: i for i, word in enumerate(vocab)}"
   ]
  },
  {
   "cell_type": "code",
   "execution_count": 5,
   "metadata": {},
   "outputs": [],
   "source": [
    "class SourceCodeDataset(Dataset):\n",
    "    def __init__(self, sourceCode, issues):\n",
    "        self.source_code = sourceCode\n",
    "        self.issues = issues\n",
    "    \n",
    "    def __len__(self):\n",
    "        return len(self.source_code)\n",
    "    \n",
    "    def __getitem__(self, idx):\n",
    "        y = 1 if self.source_code.iloc[idx]['related'] == True else 0\n",
    "        y = tensor(y).float()\n",
    "        # Return shape : (code, issue, is_related)\n",
    "        return (tensor(self.source_code.iloc[idx]['tokenized']),\n",
    "                tensor(self.issues.loc[self.source_code.iloc[idx]['issue']]['tokenized'])), y"
   ]
  },
  {
   "cell_type": "code",
   "execution_count": 6,
   "metadata": {},
   "outputs": [],
   "source": [
    "dataset = SourceCodeDataset(dataset_df, issues_df)\n",
    "train_size = int(0.9 * len(dataset))\n",
    "valid_size = len(dataset) - train_size\n",
    "train_dataset, valid_dataset = torch.utils.data.random_split(dataset, [train_size, valid_size])"
   ]
  },
  {
   "cell_type": "code",
   "execution_count": 7,
   "metadata": {},
   "outputs": [],
   "source": [
    "batch_size = 16\n",
    "# vocab_size = len(words)\n",
    "\n",
    "def pad_collate(batch):\n",
    "    (xx, yy) = zip(*batch)\n",
    "    (x1, x2) = zip(*xx)\n",
    "    \n",
    "    x1_lens = [len(x) for x in x1]\n",
    "    x2_lens = [len(x) for x in x2]\n",
    "    \n",
    "    x1_pad = pad_sequence(x1, batch_first=True, padding_value=0)\n",
    "    x2_pad = pad_sequence(x2, batch_first=True, padding_value=0)\n",
    "    \n",
    "    return x1_pad, x2_pad, tensor(yy), x1_lens, x2_lens, len(yy)\n",
    "\n",
    "train_dl = DataLoader(train_dataset, batch_size=batch_size, \n",
    "                      shuffle=True, collate_fn=pad_collate)\n",
    "\n",
    "val_dl = DataLoader(valid_dataset, batch_size=batch_size, shuffle=True, collate_fn=pad_collate)"
   ]
  },
  {
   "cell_type": "code",
   "execution_count": 8,
   "metadata": {},
   "outputs": [],
   "source": [
    "device = torch.device(\"cuda\" if torch.cuda.is_available() else \"cpu\")\n",
    "class IssueLanguageModel(nn.Module):\n",
    "    def __init__(self, embedding_dim=300):\n",
    "        super(IssueLanguageModel, self).__init__()        \n",
    "        \n",
    "        self.embeddings = nn.Embedding.from_pretrained(tensor(bpemb_en.vectors))\n",
    "        \n",
    "        self.gru1 = nn.GRU(embedding_dim, 128, batch_first=True)\n",
    "        self.gru2 = nn.GRU(embedding_dim, 256, batch_first=True)\n",
    "        \n",
    "        self.linear = nn.Linear(384, 128)\n",
    "        self.linear2 = nn.Linear(128, 1)\n",
    "        \n",
    "        # Unfreeze embedding layer\n",
    "        # self.embeddings.weight.requires_grad=True\n",
    "    def forward(self, issue, source_code, issue_len, code_len):\n",
    "        issue_em = self.embeddings(issue)\n",
    "        code_em = self.embeddings(source_code)\n",
    "        \n",
    "        issue_packed = pack_padded_sequence(issue_em, issue_len, batch_first=True, enforce_sorted=False)\n",
    "        code_packed = pack_padded_sequence(code_em, code_len, batch_first=True, enforce_sorted=False)\n",
    "        \n",
    "        output1, hidden1 = self.gru1(issue_packed)\n",
    "        output2, hidden2 = self.gru2(code_packed)\n",
    "        \n",
    "        \n",
    "        hidden = torch.cat((hidden1, hidden2), dim=2)\n",
    "        \n",
    "        out = self.linear(hidden[-1])\n",
    "        out = F.relu(out)\n",
    "        out = self.linear2(out)\n",
    "        return out"
   ]
  },
  {
   "cell_type": "code",
   "execution_count": 9,
   "metadata": {},
   "outputs": [],
   "source": [
    "model = IssueLanguageModel().to(device)\n",
    "loss_function = nn.BCEWithLogitsLoss(pos_weight=tensor(2))\n",
    "optimizer = optim.Adam(model.parameters(), 0.001)"
   ]
  },
  {
   "cell_type": "code",
   "execution_count": 10,
   "metadata": {
    "scrolled": true
   },
   "outputs": [
    {
     "data": {
      "text/plain": [
       "643073"
      ]
     },
     "execution_count": 10,
     "metadata": {},
     "output_type": "execute_result"
    }
   ],
   "source": [
    "sum(p.numel() for p in model.parameters() if p.requires_grad)"
   ]
  },
  {
   "cell_type": "code",
   "execution_count": 11,
   "metadata": {},
   "outputs": [],
   "source": [
    "def train(epoch, name=\"train\"):\n",
    "    losses = []\n",
    "    valid_losses = []\n",
    "    valid_accuracy = []\n",
    "    for e in tqdm(range(epoch)):\n",
    "        model.train()\n",
    "        total_loss = 0\n",
    "        index = 0\n",
    "        for code, issue, labels, code_len, issue_len, y_len in tqdm(train_dl):\n",
    "            index += 1\n",
    "            code = code.long().to(device)\n",
    "            issue = issue.long().to(device)\n",
    "            labels = labels.to(device)\n",
    "            \n",
    "            optimizer.zero_grad()\n",
    "            log_probs = model(issue, code, issue_len, code_len)\n",
    "            \n",
    "            loss = loss_function(log_probs.view(-1), labels)\n",
    "            loss.backward()\n",
    "            optimizer.step()\n",
    "            total_loss += loss.item()\n",
    "            if index%50 == 0:\n",
    "                print(\"Loss at {}: {}\".format(index, loss.item()))\n",
    "        losses.append(total_loss)\n",
    "        print(\"Loss: {}\".format(sum(losses)/len(losses)))\n",
    "        valid_loss, valid_ac = validation_metrics()\n",
    "        print(\"Valid Loss: {}, Valid Accuracy:{}\".format(valid_loss, valid_ac))\n",
    "        valid_losses.append(valid_loss)\n",
    "        valid_accuracy.append(valid_ac)\n",
    "        torch.save(model, './code_issue_{}_{}.pt'.format(name, e))\n",
    "    return losses, valid_losses, valid_accuracy"
   ]
  },
  {
   "cell_type": "code",
   "execution_count": 12,
   "metadata": {},
   "outputs": [],
   "source": [
    "def validation_metrics():\n",
    "    model.eval()\n",
    "    correct = 0\n",
    "    total = 0\n",
    "    sum_loss = 0\n",
    "    with torch.no_grad():\n",
    "        for code, issue, labels, code_len, issue_len, y_len in tqdm(val_dl):\n",
    "            code = code.long().to(device)\n",
    "            issue = issue.long().to(device)\n",
    "            labels = labels.to(device)\n",
    "            log_probs = model(issue, code, issue_len, code_len).view(-1)\n",
    "            loss = loss_function(log_probs, labels)\n",
    "            pred = (torch.sigmoid(log_probs) >= 0.5).float()\n",
    "            correct += (pred==labels).sum()\n",
    "            total += labels.shape[0]\n",
    "            sum_loss += loss.item()*labels.shape[0]\n",
    "    return sum_loss/total, (correct.cpu().item()/total)"
   ]
  },
  {
   "cell_type": "code",
   "execution_count": 13,
   "metadata": {
    "scrolled": true
   },
   "outputs": [
    {
     "data": {
      "application/vnd.jupyter.widget-view+json": {
       "model_id": "69a30b629b6b4f0488f508210cf6776f",
       "version_major": 2,
       "version_minor": 0
      },
      "text/plain": [
       "HBox(children=(HTML(value=''), FloatProgress(value=0.0, max=5.0), HTML(value='')))"
      ]
     },
     "metadata": {},
     "output_type": "display_data"
    },
    {
     "data": {
      "application/vnd.jupyter.widget-view+json": {
       "model_id": "6c39955444384afaa318eaeacb05ae1a",
       "version_major": 2,
       "version_minor": 0
      },
      "text/plain": [
       "HBox(children=(HTML(value=''), FloatProgress(value=0.0, max=1402.0), HTML(value='')))"
      ]
     },
     "metadata": {},
     "output_type": "display_data"
    },
    {
     "name": "stdout",
     "output_type": "stream",
     "text": [
      "Loss at 50: 0.8453623652458191\n",
      "Loss at 100: 0.9618614315986633\n",
      "Loss at 150: 0.8790174722671509\n",
      "Loss at 200: 0.6038080453872681\n",
      "Loss at 250: 0.9448164105415344\n",
      "Loss at 300: 0.839013934135437\n",
      "Loss at 350: 0.9354188442230225\n",
      "Loss at 400: 1.0240594148635864\n",
      "Loss at 450: 0.7676931023597717\n",
      "Loss at 500: 0.7517948150634766\n",
      "Loss at 550: 0.6565334796905518\n",
      "Loss at 600: 0.7541458010673523\n",
      "Loss at 650: 0.42978435754776\n",
      "Loss at 700: 0.5366275310516357\n",
      "Loss at 750: 0.7590745091438293\n",
      "Loss at 800: 0.7042762637138367\n",
      "Loss at 850: 0.4571748375892639\n",
      "Loss at 900: 0.6003894805908203\n",
      "Loss at 950: 0.6785720586776733\n",
      "Loss at 1000: 0.5041079521179199\n",
      "Loss at 1050: 0.6442482471466064\n",
      "Loss at 1100: 0.5452622771263123\n",
      "Loss at 1150: 1.2552740573883057\n",
      "Loss at 1200: 0.6634366512298584\n",
      "Loss at 1250: 0.48202094435691833\n",
      "Loss at 1300: 0.4208071231842041\n",
      "Loss at 1350: 0.6280369162559509\n",
      "Loss at 1400: 0.7427365779876709\n",
      "\n",
      "Loss: 1025.3432393968105\n"
     ]
    },
    {
     "data": {
      "application/vnd.jupyter.widget-view+json": {
       "model_id": "1b85f2e32fd54575a143a0f4bda725b3",
       "version_major": 2,
       "version_minor": 0
      },
      "text/plain": [
       "HBox(children=(HTML(value=''), FloatProgress(value=0.0, max=156.0), HTML(value='')))"
      ]
     },
     "metadata": {},
     "output_type": "display_data"
    },
    {
     "name": "stdout",
     "output_type": "stream",
     "text": [
      "\n",
      "Valid Loss: 0.6060686986863517, Valid Accuracy:0.7640449438202247\n"
     ]
    },
    {
     "name": "stderr",
     "output_type": "stream",
     "text": [
      "/opt/conda/lib/python3.7/site-packages/torch/serialization.py:389: UserWarning: Couldn't retrieve source code for container of type IssueLanguageModel. It won't be checked for correctness upon loading.\n",
      "  \"type \" + obj.__name__ + \". It won't be checked \"\n"
     ]
    },
    {
     "data": {
      "application/vnd.jupyter.widget-view+json": {
       "model_id": "05f8fc62989c4240a6f2df95942dedd5",
       "version_major": 2,
       "version_minor": 0
      },
      "text/plain": [
       "HBox(children=(HTML(value=''), FloatProgress(value=0.0, max=1402.0), HTML(value='')))"
      ]
     },
     "metadata": {},
     "output_type": "display_data"
    },
    {
     "name": "stdout",
     "output_type": "stream",
     "text": [
      "Loss at 50: 0.6064091324806213\n",
      "Loss at 100: 0.752376914024353\n",
      "Loss at 150: 0.3790472745895386\n",
      "Loss at 200: 0.785139799118042\n",
      "Loss at 250: 0.5825915336608887\n",
      "Loss at 300: 0.4846237599849701\n",
      "Loss at 350: 0.20988690853118896\n",
      "Loss at 400: 0.5555323362350464\n",
      "Loss at 450: 0.40942394733428955\n",
      "Loss at 500: 0.6580698490142822\n",
      "Loss at 550: 0.43937140703201294\n",
      "Loss at 600: 0.800193190574646\n",
      "Loss at 650: 0.37137919664382935\n",
      "Loss at 700: 0.29824453592300415\n",
      "Loss at 750: 0.759925365447998\n",
      "Loss at 800: 0.3133503794670105\n",
      "Loss at 850: 0.40366148948669434\n",
      "Loss at 900: 0.351091206073761\n",
      "Loss at 950: 0.4986228942871094\n",
      "Loss at 1000: 0.736967146396637\n",
      "Loss at 1050: 0.6203164458274841\n",
      "Loss at 1100: 0.23212268948554993\n",
      "Loss at 1150: 0.7792707681655884\n",
      "Loss at 1200: 0.7746741771697998\n",
      "Loss at 1250: 0.43547242879867554\n",
      "Loss at 1300: 0.5295106172561646\n",
      "Loss at 1350: 0.32307931780815125\n",
      "Loss at 1400: 0.48203229904174805\n",
      "\n",
      "Loss: 880.867774348706\n"
     ]
    },
    {
     "data": {
      "application/vnd.jupyter.widget-view+json": {
       "model_id": "b20844e49032489f95063442deb84e35",
       "version_major": 2,
       "version_minor": 0
      },
      "text/plain": [
       "HBox(children=(HTML(value=''), FloatProgress(value=0.0, max=156.0), HTML(value='')))"
      ]
     },
     "metadata": {},
     "output_type": "display_data"
    },
    {
     "name": "stdout",
     "output_type": "stream",
     "text": [
      "\n",
      "Valid Loss: 0.5418007155674036, Valid Accuracy:0.8053772070626003\n"
     ]
    },
    {
     "data": {
      "application/vnd.jupyter.widget-view+json": {
       "model_id": "0e8e3fced12e4d65abefe64e7df0ed5e",
       "version_major": 2,
       "version_minor": 0
      },
      "text/plain": [
       "HBox(children=(HTML(value=''), FloatProgress(value=0.0, max=1402.0), HTML(value='')))"
      ]
     },
     "metadata": {},
     "output_type": "display_data"
    },
    {
     "name": "stdout",
     "output_type": "stream",
     "text": [
      "Loss at 50: 0.4858609437942505\n",
      "Loss at 100: 0.44013845920562744\n",
      "Loss at 150: 0.3520893454551697\n",
      "Loss at 200: 0.1874331682920456\n",
      "Loss at 250: 0.41153523325920105\n",
      "Loss at 300: 0.49911022186279297\n",
      "Loss at 350: 0.32714495062828064\n",
      "Loss at 400: 0.37936103343963623\n",
      "Loss at 450: 0.4967108368873596\n",
      "Loss at 500: 0.39003607630729675\n",
      "Loss at 550: 0.676710844039917\n",
      "Loss at 600: 0.5092476010322571\n",
      "Loss at 650: 0.44347119331359863\n",
      "Loss at 700: 0.5678231716156006\n",
      "Loss at 750: 0.3858027458190918\n",
      "Loss at 800: 0.8413717746734619\n",
      "Loss at 850: 0.5623383522033691\n",
      "Loss at 900: 0.4844435751438141\n",
      "Loss at 950: 0.4397645890712738\n",
      "Loss at 1000: 0.8257051110267639\n",
      "Loss at 1050: 0.5044587850570679\n",
      "Loss at 1100: 0.2598825693130493\n",
      "Loss at 1150: 0.5299638509750366\n",
      "Loss at 1200: 1.1267611980438232\n",
      "Loss at 1250: 0.8594214916229248\n",
      "Loss at 1300: 0.573067307472229\n",
      "Loss at 1350: 0.2779991626739502\n",
      "Loss at 1400: 0.2210543155670166\n",
      "\n",
      "Loss: 798.1673285253346\n"
     ]
    },
    {
     "data": {
      "application/vnd.jupyter.widget-view+json": {
       "model_id": "44da2df88cb24477819d9337fb010e02",
       "version_major": 2,
       "version_minor": 0
      },
      "text/plain": [
       "HBox(children=(HTML(value=''), FloatProgress(value=0.0, max=156.0), HTML(value='')))"
      ]
     },
     "metadata": {},
     "output_type": "display_data"
    },
    {
     "name": "stdout",
     "output_type": "stream",
     "text": [
      "\n",
      "Valid Loss: 0.4661803657419226, Valid Accuracy:0.8515248796147673\n"
     ]
    },
    {
     "data": {
      "application/vnd.jupyter.widget-view+json": {
       "model_id": "1fb8251cca3341fcb4e289220b8f39ee",
       "version_major": 2,
       "version_minor": 0
      },
      "text/plain": [
       "HBox(children=(HTML(value=''), FloatProgress(value=0.0, max=1402.0), HTML(value='')))"
      ]
     },
     "metadata": {},
     "output_type": "display_data"
    },
    {
     "name": "stdout",
     "output_type": "stream",
     "text": [
      "Loss at 50: 0.24710121750831604\n",
      "Loss at 100: 0.4254598617553711\n",
      "Loss at 150: 0.359033465385437\n",
      "Loss at 200: 0.39391136169433594\n",
      "Loss at 250: 0.2679060697555542\n",
      "Loss at 300: 0.22942426800727844\n",
      "Loss at 350: 0.8171278238296509\n",
      "Loss at 400: 0.3140401840209961\n",
      "Loss at 450: 0.2200726717710495\n",
      "Loss at 500: 0.5608479380607605\n",
      "Loss at 550: 0.20027896761894226\n",
      "Loss at 600: 0.17983096837997437\n",
      "Loss at 650: 0.337430477142334\n",
      "Loss at 700: 0.2983178496360779\n",
      "Loss at 750: 0.3387349843978882\n",
      "Loss at 800: 0.240153506398201\n",
      "Loss at 850: 0.42006126046180725\n",
      "Loss at 900: 1.1347547769546509\n",
      "Loss at 950: 0.17673033475875854\n",
      "Loss at 1000: 0.672601580619812\n",
      "Loss at 1050: 0.5993540287017822\n",
      "Loss at 1100: 0.454742431640625\n",
      "Loss at 1150: 0.767629861831665\n",
      "Loss at 1200: 0.4059235155582428\n",
      "Loss at 1250: 0.3684041202068329\n",
      "Loss at 1300: 0.45467835664749146\n",
      "Loss at 1350: 0.12694595754146576\n",
      "Loss at 1400: 0.4104342460632324\n",
      "\n",
      "Loss: 741.0322014195845\n"
     ]
    },
    {
     "data": {
      "application/vnd.jupyter.widget-view+json": {
       "model_id": "0f2221eaab6a42feb65518ed320363d9",
       "version_major": 2,
       "version_minor": 0
      },
      "text/plain": [
       "HBox(children=(HTML(value=''), FloatProgress(value=0.0, max=156.0), HTML(value='')))"
      ]
     },
     "metadata": {},
     "output_type": "display_data"
    },
    {
     "name": "stdout",
     "output_type": "stream",
     "text": [
      "\n",
      "Valid Loss: 0.46131880650742285, Valid Accuracy:0.8282504012841091\n"
     ]
    },
    {
     "data": {
      "application/vnd.jupyter.widget-view+json": {
       "model_id": "888ea3e851a54ad0aafe18335c01d841",
       "version_major": 2,
       "version_minor": 0
      },
      "text/plain": [
       "HBox(children=(HTML(value=''), FloatProgress(value=0.0, max=1402.0), HTML(value='')))"
      ]
     },
     "metadata": {},
     "output_type": "display_data"
    },
    {
     "name": "stdout",
     "output_type": "stream",
     "text": [
      "Loss at 50: 0.21264910697937012\n",
      "Loss at 100: 0.08166082203388214\n",
      "Loss at 150: 0.09334981441497803\n",
      "Loss at 200: 0.35828137397766113\n",
      "Loss at 250: 0.27606844902038574\n",
      "Loss at 300: 0.3852655589580536\n",
      "Loss at 350: 0.29569312930107117\n",
      "Loss at 400: 0.4032301604747772\n",
      "Loss at 450: 0.40227290987968445\n",
      "Loss at 500: 0.11137624084949493\n",
      "Loss at 550: 0.2158871442079544\n",
      "Loss at 600: 0.16507700085639954\n",
      "Loss at 650: 0.48838549852371216\n",
      "Loss at 700: 0.292464941740036\n",
      "Loss at 750: 0.3734383285045624\n",
      "Loss at 800: 0.3788444697856903\n",
      "Loss at 850: 1.3085095882415771\n",
      "Loss at 900: 0.4768800735473633\n",
      "Loss at 950: 0.5446983575820923\n",
      "Loss at 1000: 0.28542497754096985\n",
      "Loss at 1050: 0.32707679271698\n",
      "Loss at 1100: 0.2251860499382019\n",
      "Loss at 1150: 0.2845047116279602\n",
      "Loss at 1200: 0.2729198932647705\n",
      "Loss at 1250: 0.3174692690372467\n",
      "Loss at 1300: 0.661622166633606\n",
      "Loss at 1350: 0.17520520091056824\n",
      "Loss at 1400: 0.3173750936985016\n",
      "\n",
      "Loss: 699.0739251002669\n"
     ]
    },
    {
     "data": {
      "application/vnd.jupyter.widget-view+json": {
       "model_id": "fdf3751153f349a6b8c37778ef9f2755",
       "version_major": 2,
       "version_minor": 0
      },
      "text/plain": [
       "HBox(children=(HTML(value=''), FloatProgress(value=0.0, max=156.0), HTML(value='')))"
      ]
     },
     "metadata": {},
     "output_type": "display_data"
    },
    {
     "name": "stdout",
     "output_type": "stream",
     "text": [
      "\n",
      "Valid Loss: 0.42810371482257475, Valid Accuracy:0.8651685393258427\n",
      "\n"
     ]
    }
   ],
   "source": [
    "losses, valid_losses, valid_accuracy = train(5)"
   ]
  },
  {
   "cell_type": "code",
   "execution_count": null,
   "metadata": {},
   "outputs": [],
   "source": [
    "losses"
   ]
  },
  {
   "cell_type": "code",
   "execution_count": null,
   "metadata": {},
   "outputs": [],
   "source": [
    "validation_metrics()"
   ]
  },
  {
   "cell_type": "code",
   "execution_count": 21,
   "metadata": {},
   "outputs": [
    {
     "data": {
      "text/plain": [
       "[1025.3432393968105,\n",
       " 736.3923093006015,\n",
       " 632.7664368785918,\n",
       " 569.626820102334,\n",
       " 531.2408198229969]"
      ]
     },
     "execution_count": 21,
     "metadata": {},
     "output_type": "execute_result"
    }
   ],
   "source": [
    "\n",
    "l"
   ]
  },
  {
   "cell_type": "code",
   "execution_count": 19,
   "metadata": {},
   "outputs": [
    {
     "data": {
      "image/png": "[encoded data removed]",
      "text/plain": [
       "<Figure size 432x288 with 1 Axes>"
      ]
     },
     "metadata": {
      "needs_background": "light"
     },
     "output_type": "display_data"
    }
   ],
   "source": [
    "f = plt.figure()\n",
    "plt.plot(losses)\n",
    "plt.plot(valid_losses)\n",
    "plt.title('BCE Losses')\n",
    "plt.ylabel('Binary Cross Entropy')\n",
    "plt.xlabel('Epoch #')\n",
    "plt.legend(['Train loss', 'Valid loss'], loc='upper right')\n",
    "plt.show()\n",
    "f.savefig(\"losses.pdf\", bbox_inches='tight')"
   ]
  },
  {
   "cell_type": "code",
   "execution_count": null,
   "metadata": {},
   "outputs": [],
   "source": [
    "predict = model(\"delete test\")"
   ]
  },
  {
   "cell_type": "code",
   "execution_count": null,
   "metadata": {},
   "outputs": [],
   "source": [
    "torch.argmax(predict)"
   ]
  },
  {
   "cell_type": "code",
   "execution_count": null,
   "metadata": {},
   "outputs": [],
   "source": [
    "issues_df.to_pickle('issues_df.pkl', 'gzip', 4)"
   ]
  },
  {
   "cell_type": "code",
   "execution_count": null,
   "metadata": {},
   "outputs": [],
   "source": [
    "dataset_df.to_pickle('dataset_df.pkl', 'gzip', 4)"
   ]
  },
  {
   "cell_type": "code",
   "execution_count": null,
   "metadata": {},
   "outputs": [],
   "source": [
    "torch.save(model, './code_issue_2.pt')"
   ]
  },
  {
   "cell_type": "code",
   "execution_count": null,
   "metadata": {},
   "outputs": [],
   "source": [
    "issues_df_polybar = pd.read_csv('./issues_data_polybar.csv')\n",
    "dataset_df_polybar = pd.read_csv('./file_data_polybar.csv')\n",
    "dataset_df_polybar = dataset_df_polybar.sample(frac=1).reset_index(drop=True)\n",
    "issues_df_polybar = issues_df_polybar.set_index('id')\n",
    "\n",
    "dataset_df_polybar['file_content'] = dataset_df_polybar['file_content'].fillna('')\n",
    "issues_df_polybar['title'] = issues_df_polybar['title'].fillna('')\n",
    "issues_df_polybar['body'] = issues_df_polybar['body'].fillna('')\n",
    "\n",
    "issues_df_polybar['text'] = issues_df_polybar['title'] + ' ' + issues_df_polybar['body']\n",
    "issues_df_polybar = issues_df_polybar[['text']]"
   ]
  },
  {
   "cell_type": "code",
   "execution_count": null,
   "metadata": {},
   "outputs": [],
   "source": [
    "issues_df_polybar['tokenized'] = issues_df_polybar.apply(lambda row: tokenize(row['text']), axis=1)\n",
    "\n",
    "dataset_df_polybar['tokenized'] = dataset_df_polybar.apply(lambda row: tokenize(row['file_content']), axis=1)"
   ]
  },
  {
   "cell_type": "code",
   "execution_count": null,
   "metadata": {},
   "outputs": [],
   "source": [
    "dataset_df_polybar = dataset_df_polybar[dataset_df_polybar['tokenized'].map(lambda d: len(d)) > 0]"
   ]
  },
  {
   "cell_type": "code",
   "execution_count": null,
   "metadata": {},
   "outputs": [],
   "source": [
    "dataset = SourceCodeDataset(dataset_df_polybar, issues_df_polybar)\n",
    "val_dl = DataLoader(dataset, batch_size=batch_size, shuffle=True, collate_fn=pad_collate)"
   ]
  },
  {
   "cell_type": "code",
   "execution_count": null,
   "metadata": {},
   "outputs": [],
   "source": [
    "dataset_df_polybar.head()"
   ]
  },
  {
   "cell_type": "code",
   "execution_count": null,
   "metadata": {},
   "outputs": [],
   "source": [
    "l_i = tensor(len(issues_df_polybar.loc[428]['tokenized'])).view(1)\n",
    "l_c = tensor(len(dataset_df_polybar.iloc[1]['tokenized'])).view(1)\n",
    "\n",
    "model(tensor(issues_df_polybar.loc[428]['tokenized']).to(device).view(1,-1), \n",
    "      tensor(dataset_df_polybar.iloc[1]['tokenized']).to(device).view(1,-1), \n",
    "      l_i, l_c)"
   ]
  },
  {
   "cell_type": "code",
   "execution_count": null,
   "metadata": {},
   "outputs": [
    {
     "data": {
      "text/plain": [
       "3643073"
      ]
     },
     "execution_count": 14,
     "metadata": {},
     "output_type": "execute_result"
    }
   ],
   "source": [
    "model.embeddings.weight.requires_grad=True\n",
    "sum(p.numel() for p in model.parameters() if p.requires_grad)"
   ]
  },
  {
   "cell_type": "code",
   "execution_count": null,
   "metadata": {},
   "outputs": [],
   "source": [
    "optimizer = optim.Adam(model.parameters(), 0.0001)"
   ]
  },
  {
   "cell_type": "code",
   "execution_count": null,
   "metadata": {},
   "outputs": [
    {
     "data": {
      "application/vnd.jupyter.widget-view+json": {
       "model_id": "309088a5dd5d4a64a7b700ddbdc40d03",
       "version_major": 2,
       "version_minor": 0
      },
      "text/plain": [
       "HBox(children=(HTML(value=''), FloatProgress(value=0.0, max=5.0), HTML(value='')))"
      ]
     },
     "metadata": {},
     "output_type": "display_data"
    },
    {
     "data": {
      "application/vnd.jupyter.widget-view+json": {
       "model_id": "30588e910c1c4e898c302a04d934ce14",
       "version_major": 2,
       "version_minor": 0
      },
      "text/plain": [
       "HBox(children=(HTML(value=''), FloatProgress(value=0.0, max=1402.0), HTML(value='')))"
      ]
     },
     "metadata": {},
     "output_type": "display_data"
    },
    {
     "name": "stdout",
     "output_type": "stream",
     "text": [
      "Loss at 50: 0.40357568860054016\n",
      "Loss at 100: 0.24430696666240692\n",
      "Loss at 150: 0.298896849155426\n",
      "Loss at 200: 0.2609492540359497\n",
      "Loss at 250: 0.22094503045082092\n",
      "Loss at 300: 0.44137042760849\n",
      "Loss at 350: 0.3011220395565033\n",
      "Loss at 400: 0.22029244899749756\n",
      "Loss at 450: 0.20124082267284393\n",
      "Loss at 500: 0.491374671459198\n",
      "Loss at 550: 0.18230867385864258\n",
      "Loss at 600: 0.466395765542984\n",
      "Loss at 650: 0.494792103767395\n",
      "Loss at 700: 0.3463408946990967\n",
      "Loss at 750: 0.45219022035598755\n",
      "Loss at 800: 0.07997545599937439\n",
      "Loss at 850: 0.451829731464386\n",
      "Loss at 900: 0.4042198657989502\n",
      "Loss at 950: 0.3849692940711975\n",
      "Loss at 1000: 0.20256683230400085\n",
      "Loss at 1050: 0.21432535350322723\n",
      "Loss at 1100: 0.24244531989097595\n",
      "Loss at 1150: 0.25592947006225586\n",
      "Loss at 1200: 0.4457409679889679\n",
      "Loss at 1250: 0.25089097023010254\n",
      "Loss at 1300: 0.28767484426498413\n",
      "Loss at 1350: 0.4108814597129822\n",
      "Loss at 1400: 0.13429102301597595\n",
      "\n",
      "Loss: 417.4664582395926\n"
     ]
    },
    {
     "data": {
      "application/vnd.jupyter.widget-view+json": {
       "model_id": "380e1855861d492c9277f58027330254",
       "version_major": 2,
       "version_minor": 0
      },
      "text/plain": [
       "HBox(children=(HTML(value=''), FloatProgress(value=0.0, max=156.0), HTML(value='')))"
      ]
     },
     "metadata": {},
     "output_type": "display_data"
    },
    {
     "name": "stdout",
     "output_type": "stream",
     "text": [
      "\n",
      "Valid Loss: 0.375017884431069, Valid Accuracy:0.8804173354735152\n"
     ]
    },
    {
     "data": {
      "application/vnd.jupyter.widget-view+json": {
       "model_id": "38ae36065e3b4989a5a4ca26109651dd",
       "version_major": 2,
       "version_minor": 0
      },
      "text/plain": [
       "HBox(children=(HTML(value=''), FloatProgress(value=0.0, max=1402.0), HTML(value='')))"
      ]
     },
     "metadata": {},
     "output_type": "display_data"
    },
    {
     "name": "stdout",
     "output_type": "stream",
     "text": [
      "Loss at 50: 0.7045669555664062\n",
      "Loss at 100: 0.38264891505241394\n",
      "Loss at 150: 0.49698787927627563\n",
      "Loss at 200: 0.2894057631492615\n",
      "Loss at 250: 0.12141633033752441\n",
      "Loss at 300: 0.23784545063972473\n",
      "Loss at 350: 0.5282330513000488\n",
      "Loss at 400: 0.1720716655254364\n",
      "Loss at 450: 0.4500822126865387\n",
      "Loss at 500: 0.23575665056705475\n",
      "Loss at 550: 0.09641720354557037\n",
      "Loss at 600: 0.2533559799194336\n",
      "Loss at 650: 0.25516384840011597\n",
      "Loss at 700: 0.09807219356298447\n",
      "Loss at 750: 0.4555593430995941\n",
      "Loss at 800: 0.11878301203250885\n",
      "Loss at 850: 0.2703417241573334\n",
      "Loss at 900: 0.0946386456489563\n",
      "Loss at 950: 0.20187467336654663\n",
      "Loss at 1000: 0.3358008563518524\n",
      "Loss at 1050: 0.09854453802108765\n",
      "Loss at 1100: 0.24747049808502197\n",
      "Loss at 1150: 0.14468644559383392\n",
      "Loss at 1200: 0.19160640239715576\n",
      "Loss at 1250: 0.033220380544662476\n",
      "Loss at 1300: 0.3838377594947815\n",
      "Loss at 1350: 0.41382408142089844\n",
      "Loss at 1400: 0.10994065552949905\n",
      "\n",
      "Loss: 395.9868992189877\n"
     ]
    },
    {
     "data": {
      "application/vnd.jupyter.widget-view+json": {
       "model_id": "855b9e437aba4fc98c217ffa32d05563",
       "version_major": 2,
       "version_minor": 0
      },
      "text/plain": [
       "HBox(children=(HTML(value=''), FloatProgress(value=0.0, max=156.0), HTML(value='')))"
      ]
     },
     "metadata": {},
     "output_type": "display_data"
    },
    {
     "name": "stdout",
     "output_type": "stream",
     "text": [
      "\n",
      "Valid Loss: 0.36198499829868636, Valid Accuracy:0.8840288924558587\n"
     ]
    },
    {
     "data": {
      "application/vnd.jupyter.widget-view+json": {
       "model_id": "698c4842dbc4448fa96451f623ac5782",
       "version_major": 2,
       "version_minor": 0
      },
      "text/plain": [
       "HBox(children=(HTML(value=''), FloatProgress(value=0.0, max=1402.0), HTML(value='')))"
      ]
     },
     "metadata": {},
     "output_type": "display_data"
    },
    {
     "name": "stdout",
     "output_type": "stream",
     "text": [
      "Loss at 50: 0.0876285657286644\n",
      "Loss at 100: 0.11349643766880035\n",
      "Loss at 150: 0.17666572332382202\n",
      "Loss at 200: 0.3392982482910156\n",
      "Loss at 250: 0.05987505614757538\n",
      "Loss at 300: 0.18539172410964966\n",
      "Loss at 350: 0.16666445136070251\n",
      "Loss at 400: 0.3043198585510254\n",
      "Loss at 450: 0.5087729692459106\n",
      "Loss at 500: 0.08683447539806366\n",
      "Loss at 550: 0.36446595191955566\n",
      "Loss at 600: 0.15578123927116394\n",
      "Loss at 650: 0.16281020641326904\n",
      "Loss at 700: 0.3056735694408417\n",
      "Loss at 750: 0.38953864574432373\n",
      "Loss at 800: 0.06486149877309799\n",
      "Loss at 850: 0.1830611675977707\n",
      "Loss at 900: 0.24945056438446045\n",
      "Loss at 950: 0.3105435371398926\n",
      "Loss at 1000: 0.5606760382652283\n",
      "Loss at 1050: 0.18454119563102722\n",
      "Loss at 1100: 0.29334577918052673\n",
      "Loss at 1150: 0.24532368779182434\n",
      "Loss at 1200: 0.37208738923072815\n",
      "Loss at 1250: 0.18258419632911682\n",
      "Loss at 1300: 0.18435251712799072\n",
      "Loss at 1350: 0.3471859097480774\n",
      "Loss at 1400: 0.271540105342865\n",
      "\n",
      "Loss: 378.9497022757617\n"
     ]
    },
    {
     "data": {
      "application/vnd.jupyter.widget-view+json": {
       "model_id": "4f8ca657816a49a59857d1616d609e6a",
       "version_major": 2,
       "version_minor": 0
      },
      "text/plain": [
       "HBox(children=(HTML(value=''), FloatProgress(value=0.0, max=156.0), HTML(value='')))"
      ]
     },
     "metadata": {},
     "output_type": "display_data"
    },
    {
     "name": "stdout",
     "output_type": "stream",
     "text": [
      "\n",
      "Valid Loss: 0.35591706657486205, Valid Accuracy:0.8808186195826645\n"
     ]
    },
    {
     "data": {
      "application/vnd.jupyter.widget-view+json": {
       "model_id": "cba1e46942eb4c53a64ed7acee5db508",
       "version_major": 2,
       "version_minor": 0
      },
      "text/plain": [
       "HBox(children=(HTML(value=''), FloatProgress(value=0.0, max=1402.0), HTML(value='')))"
      ]
     },
     "metadata": {},
     "output_type": "display_data"
    },
    {
     "name": "stdout",
     "output_type": "stream",
     "text": [
      "Loss at 50: 0.24885794520378113\n",
      "Loss at 100: 0.24189206957817078\n",
      "Loss at 150: 0.16208066046237946\n",
      "\n",
      "\n"
     ]
    },
    {
     "ename": "KeyboardInterrupt",
     "evalue": "",
     "output_type": "error",
     "traceback": [
      "\u001b[0;31m---------------------------------------------------------------------------\u001b[0m",
      "\u001b[0;31mKeyboardInterrupt\u001b[0m                         Traceback (most recent call last)",
      "\u001b[0;32m<ipython-input-16-8de6038ed988>\u001b[0m in \u001b[0;36m<module>\u001b[0;34m\u001b[0m\n\u001b[0;32m----> 1\u001b[0;31m \u001b[0mlosses_2\u001b[0m\u001b[0;34m,\u001b[0m \u001b[0mvalid_losses_2\u001b[0m\u001b[0;34m,\u001b[0m \u001b[0mvalid_accuracy_2\u001b[0m \u001b[0;34m=\u001b[0m \u001b[0mtrain\u001b[0m\u001b[0;34m(\u001b[0m\u001b[0;36m5\u001b[0m\u001b[0;34m,\u001b[0m \u001b[0;34m'fine_tune'\u001b[0m\u001b[0;34m)\u001b[0m\u001b[0;34m\u001b[0m\u001b[0;34m\u001b[0m\u001b[0m\n\u001b[0m",
      "\u001b[0;32m<ipython-input-11-da67ce34be1b>\u001b[0m in \u001b[0;36mtrain\u001b[0;34m(epoch, name)\u001b[0m\n\u001b[1;32m     17\u001b[0m \u001b[0;34m\u001b[0m\u001b[0m\n\u001b[1;32m     18\u001b[0m             \u001b[0mloss\u001b[0m \u001b[0;34m=\u001b[0m \u001b[0mloss_function\u001b[0m\u001b[0;34m(\u001b[0m\u001b[0mlog_probs\u001b[0m\u001b[0;34m.\u001b[0m\u001b[0mview\u001b[0m\u001b[0;34m(\u001b[0m\u001b[0;34m-\u001b[0m\u001b[0;36m1\u001b[0m\u001b[0;34m)\u001b[0m\u001b[0;34m,\u001b[0m \u001b[0mlabels\u001b[0m\u001b[0;34m)\u001b[0m\u001b[0;34m\u001b[0m\u001b[0;34m\u001b[0m\u001b[0m\n\u001b[0;32m---> 19\u001b[0;31m             \u001b[0mloss\u001b[0m\u001b[0;34m.\u001b[0m\u001b[0mbackward\u001b[0m\u001b[0;34m(\u001b[0m\u001b[0;34m)\u001b[0m\u001b[0;34m\u001b[0m\u001b[0;34m\u001b[0m\u001b[0m\n\u001b[0m\u001b[1;32m     20\u001b[0m             \u001b[0moptimizer\u001b[0m\u001b[0;34m.\u001b[0m\u001b[0mstep\u001b[0m\u001b[0;34m(\u001b[0m\u001b[0;34m)\u001b[0m\u001b[0;34m\u001b[0m\u001b[0;34m\u001b[0m\u001b[0m\n\u001b[1;32m     21\u001b[0m             \u001b[0mtotal_loss\u001b[0m \u001b[0;34m+=\u001b[0m \u001b[0mloss\u001b[0m\u001b[0;34m.\u001b[0m\u001b[0mitem\u001b[0m\u001b[0;34m(\u001b[0m\u001b[0;34m)\u001b[0m\u001b[0;34m\u001b[0m\u001b[0;34m\u001b[0m\u001b[0m\n",
      "\u001b[0;32m/opt/conda/lib/python3.7/site-packages/torch/tensor.py\u001b[0m in \u001b[0;36mbackward\u001b[0;34m(self, gradient, retain_graph, create_graph)\u001b[0m\n\u001b[1;32m    182\u001b[0m                 \u001b[0mproducts\u001b[0m\u001b[0;34m.\u001b[0m \u001b[0mDefaults\u001b[0m \u001b[0mto\u001b[0m\u001b[0;31m \u001b[0m\u001b[0;31m`\u001b[0m\u001b[0;31m`\u001b[0m\u001b[0;32mFalse\u001b[0m\u001b[0;31m`\u001b[0m\u001b[0;31m`\u001b[0m\u001b[0;34m.\u001b[0m\u001b[0;34m\u001b[0m\u001b[0;34m\u001b[0m\u001b[0m\n\u001b[1;32m    183\u001b[0m         \"\"\"\n\u001b[0;32m--> 184\u001b[0;31m         \u001b[0mtorch\u001b[0m\u001b[0;34m.\u001b[0m\u001b[0mautograd\u001b[0m\u001b[0;34m.\u001b[0m\u001b[0mbackward\u001b[0m\u001b[0;34m(\u001b[0m\u001b[0mself\u001b[0m\u001b[0;34m,\u001b[0m \u001b[0mgradient\u001b[0m\u001b[0;34m,\u001b[0m \u001b[0mretain_graph\u001b[0m\u001b[0;34m,\u001b[0m \u001b[0mcreate_graph\u001b[0m\u001b[0;34m)\u001b[0m\u001b[0;34m\u001b[0m\u001b[0;34m\u001b[0m\u001b[0m\n\u001b[0m\u001b[1;32m    185\u001b[0m \u001b[0;34m\u001b[0m\u001b[0m\n\u001b[1;32m    186\u001b[0m     \u001b[0;32mdef\u001b[0m \u001b[0mregister_hook\u001b[0m\u001b[0;34m(\u001b[0m\u001b[0mself\u001b[0m\u001b[0;34m,\u001b[0m \u001b[0mhook\u001b[0m\u001b[0;34m)\u001b[0m\u001b[0;34m:\u001b[0m\u001b[0;34m\u001b[0m\u001b[0;34m\u001b[0m\u001b[0m\n",
      "\u001b[0;32m/opt/conda/lib/python3.7/site-packages/torch/autograd/__init__.py\u001b[0m in \u001b[0;36mbackward\u001b[0;34m(tensors, grad_tensors, retain_graph, create_graph, grad_variables)\u001b[0m\n\u001b[1;32m    121\u001b[0m     Variable._execution_engine.run_backward(\n\u001b[1;32m    122\u001b[0m         \u001b[0mtensors\u001b[0m\u001b[0;34m,\u001b[0m \u001b[0mgrad_tensors\u001b[0m\u001b[0;34m,\u001b[0m \u001b[0mretain_graph\u001b[0m\u001b[0;34m,\u001b[0m \u001b[0mcreate_graph\u001b[0m\u001b[0;34m,\u001b[0m\u001b[0;34m\u001b[0m\u001b[0;34m\u001b[0m\u001b[0m\n\u001b[0;32m--> 123\u001b[0;31m         allow_unreachable=True)  # allow_unreachable flag\n\u001b[0m\u001b[1;32m    124\u001b[0m \u001b[0;34m\u001b[0m\u001b[0m\n\u001b[1;32m    125\u001b[0m \u001b[0;34m\u001b[0m\u001b[0m\n",
      "\u001b[0;31mKeyboardInterrupt\u001b[0m: "
     ]
    }
   ],
   "source": [
    "losses_2, valid_losses_2, valid_accuracy_2 = train(5, 'fine_tune')"
   ]
  },
  {
   "cell_type": "code",
   "execution_count": 18,
   "metadata": {},
   "outputs": [],
   "source": [
    "torch.save({'state_dict': model.state_dict()}, 'model-final.pth.tar')"
   ]
  },
  {
   "cell_type": "code",
   "execution_count": null,
   "metadata": {},
   "outputs": [],
   "source": []
  }
 ],
 "metadata": {
  "environment": {
   "name": "pytorch-gpu.1-6.m59",
   "type": "gcloud",
   "uri": "gcr.io/deeplearning-platform-release/pytorch-gpu.1-6:m59"
  },
  "kernelspec": {
   "display_name": "Python 3",
   "language": "python",
   "name": "python3"
  },
  "language_info": {
   "codemirror_mode": {
    "name": "ipython",
    "version": 3
   },
   "file_extension": ".py",
   "mimetype": "text/x-python",
   "name": "python",
   "nbconvert_exporter": "python",
   "pygments_lexer": "ipython3",
   "version": "3.7.8"
  }
 },
 "nbformat": 4,
 "nbformat_minor": 4
}
